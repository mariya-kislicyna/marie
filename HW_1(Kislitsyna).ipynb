{
  "nbformat": 4,
  "nbformat_minor": 0,
  "metadata": {
    "colab": {
      "provenance": [],
      "collapsed_sections": [],
      "authorship_tag": "ABX9TyMMQMLObeqoaWDeiNrG4Mu0",
      "include_colab_link": true
    },
    "kernelspec": {
      "name": "python3",
      "display_name": "Python 3"
    },
    "language_info": {
      "name": "python"
    }
  },
  "cells": [
    {
      "cell_type": "markdown",
      "metadata": {
        "id": "view-in-github",
        "colab_type": "text"
      },
      "source": [
        "<a href=\"https://colab.research.google.com/github/mariya-kislicyna/marie/blob/master/HW_1(Kislitsyna).ipynb\" target=\"_parent\"><img src=\"https://colab.research.google.com/assets/colab-badge.svg\" alt=\"Open In Colab\"/></a>"
      ]
    },
    {
      "cell_type": "code",
      "execution_count": 50,
      "metadata": {
        "id": "kCu_v00SATcG"
      },
      "outputs": [],
      "source": [
        "import numpy as np\n",
        "from numpy import *"
      ]
    },
    {
      "cell_type": "code",
      "source": [
        "#Задание №1\n",
        "x = np.array([[1, 0, 1], [2, 0, 2], [3, 0, 3], [4, 4, 4]]) "
      ],
      "metadata": {
        "id": "8hjyB8EIAzGr"
      },
      "execution_count": 51,
      "outputs": []
    },
    {
      "cell_type": "code",
      "source": [
        "np.prod(np.diagonal(x)[np.diagonal(x)!=0])\n"
      ],
      "metadata": {
        "colab": {
          "base_uri": "https://localhost:8080/"
        },
        "id": "_o7wU4XzBlC4",
        "outputId": "94797802-b58b-49f3-d488-fb2df6be6929"
      },
      "execution_count": 52,
      "outputs": [
        {
          "output_type": "execute_result",
          "data": {
            "text/plain": [
              "3"
            ]
          },
          "metadata": {},
          "execution_count": 52
        }
      ]
    },
    {
      "cell_type": "code",
      "source": [
        "#Задание №2\n",
        "x = np.array([1, 2, 2, 4])\n",
        "y = np.array([4, 2, 1, 2])\n"
      ],
      "metadata": {
        "id": "Upgpe8CYBv7Y"
      },
      "execution_count": 53,
      "outputs": []
    },
    {
      "cell_type": "code",
      "source": [
        "x in y #содержатся ли элементы из вектора х в векторе у"
      ],
      "metadata": {
        "colab": {
          "base_uri": "https://localhost:8080/"
        },
        "id": "h26QhHLimzb7",
        "outputId": "707b10a7-b294-444b-bbab-cd708a280280"
      },
      "execution_count": 54,
      "outputs": [
        {
          "output_type": "execute_result",
          "data": {
            "text/plain": [
              "True"
            ]
          },
          "metadata": {},
          "execution_count": 54
        }
      ]
    },
    {
      "cell_type": "code",
      "source": [
        "#Задание №3\n",
        "x = np.array([6, 2, 0, 3, 0, 0, 5, 7, 0], int)"
      ],
      "metadata": {
        "id": "mngYuKxRnERW"
      },
      "execution_count": 55,
      "outputs": []
    },
    {
      "cell_type": "code",
      "source": [
        "print(np.max(np.take(x[1:], np.where(x[:-1] == 0))))\n"
      ],
      "metadata": {
        "colab": {
          "base_uri": "https://localhost:8080/"
        },
        "id": "irDYCriA4YO4",
        "outputId": "df2a4e33-27bf-4bde-8e16-23d5be78ce4c"
      },
      "execution_count": 56,
      "outputs": [
        {
          "output_type": "stream",
          "name": "stdout",
          "text": [
            "5\n"
          ]
        }
      ]
    }
  ]
}